{
 "cells": [
  {
   "cell_type": "markdown",
   "id": "bdf1b3b2-1965-459e-8885-38d8ece67564",
   "metadata": {},
   "source": [
    "# Maximizing revenue for cab drivers through the payment type analysis"
   ]
  },
  {
   "cell_type": "markdown",
   "id": "509a0227-329d-4bd0-ab11-f82c696ec401",
   "metadata": {},
   "source": [
    "## Problem statement "
   ]
  },
  {
   "cell_type": "markdown",
   "id": "5b2b6594-e8e8-431d-856f-c843f1f03ab0",
   "metadata": {},
   "source": [
    "Cab drivers often overlook how payment methods influence their earnings. Passenger choices between cash, card, or digital wallets may affect both average fare amounts and overall revenue patterns. This project analyzes trip data to uncover whether payment type significantly impacts fare values, providing data-driven insights that can help drivers and platforms optimize revenue strategies."
   ]
  },
  {
   "cell_type": "markdown",
   "id": "871a5815-9517-4a4d-b9bc-7dbdb390ffbe",
   "metadata": {},
   "source": [
    "## Objectives"
   ]
  },
  {
   "cell_type": "markdown",
   "id": "3594ed7a-3fec-45e6-b6c2-90aa3a68006f",
   "metadata": {},
   "source": [
    "- To examine the relationship between payment methods (cash, card) and fare amounts using statistical analysis and A/B testing.  \n",
    "- To determine whether payment type has a significant impact on driver revenue.   \n",
    "- To provide data-driven recommendations that help cab drivers prioritize the most profitable payment methods.   \n",
    "- To enable actionable insights for improving driver income strategies and enhancing overall revenue optimization.   "
   ]
  },
  {
   "cell_type": "markdown",
   "id": "21916f01-1d9c-448a-8440-0246405a4f22",
   "metadata": {},
   "source": [
    "# Research Question "
   ]
  },
  {
   "cell_type": "markdown",
   "id": "5d3b6699-c332-4baa-977f-8f02cd9d54a4",
   "metadata": {},
   "source": [
    "### Does the choice of payment method (cash, card) significantly impact fare amounts and driver revenue, and how can these insights be used to optimize earning strategies for cab drivers?"
   ]
  },
  {
   "cell_type": "code",
   "execution_count": 4,
   "id": "2a48709a-68db-4dc3-b4c7-2a50b3b0c7d3",
   "metadata": {},
   "outputs": [],
   "source": [
    "# Import all libraries \n",
    "import pandas as pd \n",
    "import numpy as np\n",
    "import matplotlib.pyplot as plt\n",
    "import seaborn as sns \n",
    "import scipy.stats as st\n",
    "import warnings \n",
    "warnings.filterwarnings('ignore')"
   ]
  },
  {
   "cell_type": "code",
   "execution_count": 5,
   "id": "50d00b08-7e13-4159-a94f-0c83d445244b",
   "metadata": {},
   "outputs": [],
   "source": [
    "# Read dataset\n",
    "df=pd.read_csv(r\"C:\\Users\\Lenovo\\OneDrive\\Pictures\\Screenshots\\excel project\\2023_Green_Taxi_Trip_Data.csv\")"
   ]
  },
  {
   "cell_type": "code",
   "execution_count": 6,
   "id": "cb9ae2d5-6f41-4e9c-bdb9-a8a444372ab5",
   "metadata": {},
   "outputs": [
    {
     "data": {
      "text/html": [
       "<div>\n",
       "<style scoped>\n",
       "    .dataframe tbody tr th:only-of-type {\n",
       "        vertical-align: middle;\n",
       "    }\n",
       "\n",
       "    .dataframe tbody tr th {\n",
       "        vertical-align: top;\n",
       "    }\n",
       "\n",
       "    .dataframe thead th {\n",
       "        text-align: right;\n",
       "    }\n",
       "</style>\n",
       "<table border=\"1\" class=\"dataframe\">\n",
       "  <thead>\n",
       "    <tr style=\"text-align: right;\">\n",
       "      <th></th>\n",
       "      <th>VendorID</th>\n",
       "      <th>lpep_pickup_datetime</th>\n",
       "      <th>lpep_dropoff_datetime</th>\n",
       "      <th>store_and_fwd_flag</th>\n",
       "      <th>RatecodeID</th>\n",
       "      <th>PULocationID</th>\n",
       "      <th>DOLocationID</th>\n",
       "      <th>passenger_count</th>\n",
       "      <th>trip_distance</th>\n",
       "      <th>fare_amount</th>\n",
       "      <th>extra</th>\n",
       "      <th>mta_tax</th>\n",
       "      <th>tip_amount</th>\n",
       "      <th>tolls_amount</th>\n",
       "      <th>ehail_fee</th>\n",
       "      <th>improvement_surcharge</th>\n",
       "      <th>total_amount</th>\n",
       "      <th>payment_type</th>\n",
       "      <th>trip_type</th>\n",
       "      <th>congestion_surcharge</th>\n",
       "    </tr>\n",
       "  </thead>\n",
       "  <tbody>\n",
       "    <tr>\n",
       "      <th>0</th>\n",
       "      <td>2</td>\n",
       "      <td>01/01/2023 12:26:10 AM</td>\n",
       "      <td>01/01/2023 12:37:11 AM</td>\n",
       "      <td>N</td>\n",
       "      <td>1.0</td>\n",
       "      <td>166</td>\n",
       "      <td>143</td>\n",
       "      <td>1.0</td>\n",
       "      <td>2.58</td>\n",
       "      <td>14.9</td>\n",
       "      <td>1.0</td>\n",
       "      <td>0.5</td>\n",
       "      <td>4.03</td>\n",
       "      <td>0.0</td>\n",
       "      <td>NaN</td>\n",
       "      <td>1.0</td>\n",
       "      <td>24.18</td>\n",
       "      <td>1.0</td>\n",
       "      <td>1.0</td>\n",
       "      <td>2.75</td>\n",
       "    </tr>\n",
       "    <tr>\n",
       "      <th>1</th>\n",
       "      <td>2</td>\n",
       "      <td>01/01/2023 12:51:03 AM</td>\n",
       "      <td>01/01/2023 12:57:49 AM</td>\n",
       "      <td>N</td>\n",
       "      <td>1.0</td>\n",
       "      <td>24</td>\n",
       "      <td>43</td>\n",
       "      <td>1.0</td>\n",
       "      <td>1.81</td>\n",
       "      <td>10.7</td>\n",
       "      <td>1.0</td>\n",
       "      <td>0.5</td>\n",
       "      <td>2.64</td>\n",
       "      <td>0.0</td>\n",
       "      <td>NaN</td>\n",
       "      <td>1.0</td>\n",
       "      <td>15.84</td>\n",
       "      <td>1.0</td>\n",
       "      <td>1.0</td>\n",
       "      <td>0.00</td>\n",
       "    </tr>\n",
       "    <tr>\n",
       "      <th>2</th>\n",
       "      <td>2</td>\n",
       "      <td>01/01/2023 12:35:12 AM</td>\n",
       "      <td>01/01/2023 12:41:32 AM</td>\n",
       "      <td>N</td>\n",
       "      <td>1.0</td>\n",
       "      <td>223</td>\n",
       "      <td>179</td>\n",
       "      <td>1.0</td>\n",
       "      <td>0.00</td>\n",
       "      <td>7.2</td>\n",
       "      <td>1.0</td>\n",
       "      <td>0.5</td>\n",
       "      <td>1.94</td>\n",
       "      <td>0.0</td>\n",
       "      <td>NaN</td>\n",
       "      <td>1.0</td>\n",
       "      <td>11.64</td>\n",
       "      <td>1.0</td>\n",
       "      <td>1.0</td>\n",
       "      <td>0.00</td>\n",
       "    </tr>\n",
       "    <tr>\n",
       "      <th>3</th>\n",
       "      <td>1</td>\n",
       "      <td>01/01/2023 12:13:14 AM</td>\n",
       "      <td>01/01/2023 12:19:03 AM</td>\n",
       "      <td>N</td>\n",
       "      <td>1.0</td>\n",
       "      <td>41</td>\n",
       "      <td>238</td>\n",
       "      <td>1.0</td>\n",
       "      <td>1.30</td>\n",
       "      <td>6.5</td>\n",
       "      <td>0.5</td>\n",
       "      <td>1.5</td>\n",
       "      <td>1.70</td>\n",
       "      <td>0.0</td>\n",
       "      <td>NaN</td>\n",
       "      <td>1.0</td>\n",
       "      <td>10.20</td>\n",
       "      <td>1.0</td>\n",
       "      <td>1.0</td>\n",
       "      <td>0.00</td>\n",
       "    </tr>\n",
       "    <tr>\n",
       "      <th>4</th>\n",
       "      <td>1</td>\n",
       "      <td>01/01/2023 12:33:04 AM</td>\n",
       "      <td>01/01/2023 12:39:02 AM</td>\n",
       "      <td>N</td>\n",
       "      <td>1.0</td>\n",
       "      <td>41</td>\n",
       "      <td>74</td>\n",
       "      <td>1.0</td>\n",
       "      <td>1.10</td>\n",
       "      <td>6.0</td>\n",
       "      <td>0.5</td>\n",
       "      <td>1.5</td>\n",
       "      <td>0.00</td>\n",
       "      <td>0.0</td>\n",
       "      <td>NaN</td>\n",
       "      <td>1.0</td>\n",
       "      <td>8.00</td>\n",
       "      <td>1.0</td>\n",
       "      <td>1.0</td>\n",
       "      <td>0.00</td>\n",
       "    </tr>\n",
       "  </tbody>\n",
       "</table>\n",
       "</div>"
      ],
      "text/plain": [
       "   VendorID    lpep_pickup_datetime   lpep_dropoff_datetime  \\\n",
       "0         2  01/01/2023 12:26:10 AM  01/01/2023 12:37:11 AM   \n",
       "1         2  01/01/2023 12:51:03 AM  01/01/2023 12:57:49 AM   \n",
       "2         2  01/01/2023 12:35:12 AM  01/01/2023 12:41:32 AM   \n",
       "3         1  01/01/2023 12:13:14 AM  01/01/2023 12:19:03 AM   \n",
       "4         1  01/01/2023 12:33:04 AM  01/01/2023 12:39:02 AM   \n",
       "\n",
       "  store_and_fwd_flag  RatecodeID  PULocationID  DOLocationID  passenger_count  \\\n",
       "0                  N         1.0           166           143              1.0   \n",
       "1                  N         1.0            24            43              1.0   \n",
       "2                  N         1.0           223           179              1.0   \n",
       "3                  N         1.0            41           238              1.0   \n",
       "4                  N         1.0            41            74              1.0   \n",
       "\n",
       "   trip_distance  fare_amount  extra  mta_tax  tip_amount  tolls_amount  \\\n",
       "0           2.58         14.9    1.0      0.5        4.03           0.0   \n",
       "1           1.81         10.7    1.0      0.5        2.64           0.0   \n",
       "2           0.00          7.2    1.0      0.5        1.94           0.0   \n",
       "3           1.30          6.5    0.5      1.5        1.70           0.0   \n",
       "4           1.10          6.0    0.5      1.5        0.00           0.0   \n",
       "\n",
       "   ehail_fee  improvement_surcharge  total_amount  payment_type  trip_type  \\\n",
       "0        NaN                    1.0         24.18           1.0        1.0   \n",
       "1        NaN                    1.0         15.84           1.0        1.0   \n",
       "2        NaN                    1.0         11.64           1.0        1.0   \n",
       "3        NaN                    1.0         10.20           1.0        1.0   \n",
       "4        NaN                    1.0          8.00           1.0        1.0   \n",
       "\n",
       "   congestion_surcharge  \n",
       "0                  2.75  \n",
       "1                  0.00  \n",
       "2                  0.00  \n",
       "3                  0.00  \n",
       "4                  0.00  "
      ]
     },
     "execution_count": 6,
     "metadata": {},
     "output_type": "execute_result"
    }
   ],
   "source": [
    "df.head(5)"
   ]
  },
  {
   "cell_type": "markdown",
   "id": "1d935066-ba5e-4729-9ef8-71ab200713ce",
   "metadata": {},
   "source": [
    "# Exploratory Data Analysis"
   ]
  },
  {
   "cell_type": "code",
   "execution_count": 7,
   "id": "202cf11f-ee62-4554-aac0-4c0eab2b566a",
   "metadata": {},
   "outputs": [
    {
     "data": {
      "text/plain": [
       "(787060, 20)"
      ]
     },
     "execution_count": 7,
     "metadata": {},
     "output_type": "execute_result"
    }
   ],
   "source": [
    "# Shape of the data\n",
    "df.shape"
   ]
  },
  {
   "cell_type": "code",
   "execution_count": 8,
   "id": "4898c41c-0b97-4496-bcd3-1a7b7258281b",
   "metadata": {},
   "outputs": [],
   "source": [
    "# Ensure datetime columns are proper\n",
    "df['lpep_pickup_datetime'] = pd.to_datetime(df['lpep_pickup_datetime'], format='%m/%d/%Y %I:%M:%S %p')\n",
    "df['lpep_dropoff_datetime'] = pd.to_datetime(df['lpep_dropoff_datetime'], format='%m/%d/%Y %I:%M:%S %p')\n",
    "\n",
    "# Create trip_duration column\n",
    "df['trip_duration'] = df['lpep_dropoff_datetime'] - df['lpep_pickup_datetime']\n",
    "\n",
    "df['trip_duration']=df['trip_duration'].dt.total_seconds()/60"
   ]
  },
  {
   "cell_type": "code",
   "execution_count": 9,
   "id": "80ad0251-9796-4f0b-8760-42f5fe4dfde7",
   "metadata": {},
   "outputs": [
    {
     "data": {
      "text/plain": [
       "VendorID                          int64\n",
       "lpep_pickup_datetime     datetime64[ns]\n",
       "lpep_dropoff_datetime    datetime64[ns]\n",
       "store_and_fwd_flag               object\n",
       "RatecodeID                      float64\n",
       "PULocationID                      int64\n",
       "DOLocationID                      int64\n",
       "passenger_count                 float64\n",
       "trip_distance                   float64\n",
       "fare_amount                     float64\n",
       "extra                           float64\n",
       "mta_tax                         float64\n",
       "tip_amount                      float64\n",
       "tolls_amount                    float64\n",
       "ehail_fee                       float64\n",
       "improvement_surcharge           float64\n",
       "total_amount                    float64\n",
       "payment_type                    float64\n",
       "trip_type                       float64\n",
       "congestion_surcharge            float64\n",
       "trip_duration                   float64\n",
       "dtype: object"
      ]
     },
     "execution_count": 9,
     "metadata": {},
     "output_type": "execute_result"
    }
   ],
   "source": [
    "df.dtypes"
   ]
  },
  {
   "cell_type": "code",
   "execution_count": 10,
   "id": "f414ebeb-17cf-4396-b10b-ac0ca9751543",
   "metadata": {},
   "outputs": [
    {
     "data": {
      "text/plain": [
       "Index(['VendorID', 'lpep_pickup_datetime', 'lpep_dropoff_datetime',\n",
       "       'store_and_fwd_flag', 'RatecodeID', 'PULocationID', 'DOLocationID',\n",
       "       'passenger_count', 'trip_distance', 'fare_amount', 'extra', 'mta_tax',\n",
       "       'tip_amount', 'tolls_amount', 'ehail_fee', 'improvement_surcharge',\n",
       "       'total_amount', 'payment_type', 'trip_type', 'congestion_surcharge',\n",
       "       'trip_duration'],\n",
       "      dtype='object')"
      ]
     },
     "execution_count": 10,
     "metadata": {},
     "output_type": "execute_result"
    }
   ],
   "source": [
    "df.columns"
   ]
  },
  {
   "cell_type": "code",
   "execution_count": 11,
   "id": "aa292fa4-d743-41ea-a1db-6863c3e2cde2",
   "metadata": {},
   "outputs": [],
   "source": [
    "df=df[['passenger_count','trip_distance','payment_type','fare_amount','trip_duration']]"
   ]
  },
  {
   "cell_type": "code",
   "execution_count": 12,
   "id": "0d3b4dde-8d94-44dd-b0f3-2dd44e3473b7",
   "metadata": {},
   "outputs": [
    {
     "data": {
      "text/html": [
       "<div>\n",
       "<style scoped>\n",
       "    .dataframe tbody tr th:only-of-type {\n",
       "        vertical-align: middle;\n",
       "    }\n",
       "\n",
       "    .dataframe tbody tr th {\n",
       "        vertical-align: top;\n",
       "    }\n",
       "\n",
       "    .dataframe thead th {\n",
       "        text-align: right;\n",
       "    }\n",
       "</style>\n",
       "<table border=\"1\" class=\"dataframe\">\n",
       "  <thead>\n",
       "    <tr style=\"text-align: right;\">\n",
       "      <th></th>\n",
       "      <th>passenger_count</th>\n",
       "      <th>trip_distance</th>\n",
       "      <th>payment_type</th>\n",
       "      <th>fare_amount</th>\n",
       "      <th>trip_duration</th>\n",
       "    </tr>\n",
       "  </thead>\n",
       "  <tbody>\n",
       "    <tr>\n",
       "      <th>0</th>\n",
       "      <td>1.0</td>\n",
       "      <td>2.58</td>\n",
       "      <td>1.0</td>\n",
       "      <td>14.9</td>\n",
       "      <td>11.016667</td>\n",
       "    </tr>\n",
       "    <tr>\n",
       "      <th>1</th>\n",
       "      <td>1.0</td>\n",
       "      <td>1.81</td>\n",
       "      <td>1.0</td>\n",
       "      <td>10.7</td>\n",
       "      <td>6.766667</td>\n",
       "    </tr>\n",
       "    <tr>\n",
       "      <th>2</th>\n",
       "      <td>1.0</td>\n",
       "      <td>0.00</td>\n",
       "      <td>1.0</td>\n",
       "      <td>7.2</td>\n",
       "      <td>6.333333</td>\n",
       "    </tr>\n",
       "    <tr>\n",
       "      <th>3</th>\n",
       "      <td>1.0</td>\n",
       "      <td>1.30</td>\n",
       "      <td>1.0</td>\n",
       "      <td>6.5</td>\n",
       "      <td>5.816667</td>\n",
       "    </tr>\n",
       "    <tr>\n",
       "      <th>4</th>\n",
       "      <td>1.0</td>\n",
       "      <td>1.10</td>\n",
       "      <td>1.0</td>\n",
       "      <td>6.0</td>\n",
       "      <td>5.966667</td>\n",
       "    </tr>\n",
       "  </tbody>\n",
       "</table>\n",
       "</div>"
      ],
      "text/plain": [
       "   passenger_count  trip_distance  payment_type  fare_amount  trip_duration\n",
       "0              1.0           2.58           1.0         14.9      11.016667\n",
       "1              1.0           1.81           1.0         10.7       6.766667\n",
       "2              1.0           0.00           1.0          7.2       6.333333\n",
       "3              1.0           1.30           1.0          6.5       5.816667\n",
       "4              1.0           1.10           1.0          6.0       5.966667"
      ]
     },
     "execution_count": 12,
     "metadata": {},
     "output_type": "execute_result"
    }
   ],
   "source": [
    "df.head(5)"
   ]
  },
  {
   "cell_type": "code",
   "execution_count": 13,
   "id": "3d3f92e6-9a72-4be3-9211-4dbdbe432bb8",
   "metadata": {},
   "outputs": [
    {
     "data": {
      "text/plain": [
       "passenger_count    55613\n",
       "trip_distance          0\n",
       "payment_type       55613\n",
       "fare_amount            0\n",
       "trip_duration          0\n",
       "dtype: int64"
      ]
     },
     "execution_count": 13,
     "metadata": {},
     "output_type": "execute_result"
    }
   ],
   "source": [
    "df.isnull().sum()"
   ]
  },
  {
   "cell_type": "code",
   "execution_count": 14,
   "id": "1bfe366f-8d32-47bc-8b4d-68dfd60e46e5",
   "metadata": {},
   "outputs": [
    {
     "data": {
      "text/plain": [
       "7.06591619444515"
      ]
     },
     "execution_count": 14,
     "metadata": {},
     "output_type": "execute_result"
    }
   ],
   "source": [
    "(55613/len(df))*100"
   ]
  },
  {
   "cell_type": "code",
   "execution_count": 15,
   "id": "6fa6a756-58d2-43e0-a37e-6d2605ff3851",
   "metadata": {},
   "outputs": [],
   "source": [
    "df.dropna(inplace=True)"
   ]
  },
  {
   "cell_type": "code",
   "execution_count": 16,
   "id": "9536fd58-82a5-4be1-981f-61844e43dbaa",
   "metadata": {},
   "outputs": [
    {
     "data": {
      "text/plain": [
       "passenger_count    0\n",
       "trip_distance      0\n",
       "payment_type       0\n",
       "fare_amount        0\n",
       "trip_duration      0\n",
       "dtype: int64"
      ]
     },
     "execution_count": 16,
     "metadata": {},
     "output_type": "execute_result"
    }
   ],
   "source": [
    "df.isnull().sum()"
   ]
  },
  {
   "cell_type": "code",
   "execution_count": 17,
   "id": "cee23bb2-b6cf-4f85-8bad-cde8fbaa5341",
   "metadata": {},
   "outputs": [
    {
     "data": {
      "text/plain": [
       "passenger_count    float64\n",
       "trip_distance      float64\n",
       "payment_type       float64\n",
       "fare_amount        float64\n",
       "trip_duration      float64\n",
       "dtype: object"
      ]
     },
     "execution_count": 17,
     "metadata": {},
     "output_type": "execute_result"
    }
   ],
   "source": [
    "df.dtypes"
   ]
  },
  {
   "cell_type": "code",
   "execution_count": 18,
   "id": "90998d8c-05e7-40b4-8807-0d685ebad74c",
   "metadata": {},
   "outputs": [],
   "source": [
    "df['passenger_count']=df['passenger_count'].astype('int64')\n",
    "df['payment_type ']=df['payment_type'].astype('int64')"
   ]
  },
  {
   "cell_type": "code",
   "execution_count": 19,
   "id": "79660d6c-a0ed-4208-a544-b6be47d8db6f",
   "metadata": {},
   "outputs": [
    {
     "data": {
      "text/html": [
       "<div>\n",
       "<style scoped>\n",
       "    .dataframe tbody tr th:only-of-type {\n",
       "        vertical-align: middle;\n",
       "    }\n",
       "\n",
       "    .dataframe tbody tr th {\n",
       "        vertical-align: top;\n",
       "    }\n",
       "\n",
       "    .dataframe thead th {\n",
       "        text-align: right;\n",
       "    }\n",
       "</style>\n",
       "<table border=\"1\" class=\"dataframe\">\n",
       "  <thead>\n",
       "    <tr style=\"text-align: right;\">\n",
       "      <th></th>\n",
       "      <th>passenger_count</th>\n",
       "      <th>trip_distance</th>\n",
       "      <th>payment_type</th>\n",
       "      <th>fare_amount</th>\n",
       "      <th>trip_duration</th>\n",
       "      <th>payment_type</th>\n",
       "    </tr>\n",
       "  </thead>\n",
       "  <tbody>\n",
       "    <tr>\n",
       "      <th>270</th>\n",
       "      <td>1</td>\n",
       "      <td>0.00</td>\n",
       "      <td>1.0</td>\n",
       "      <td>20.0</td>\n",
       "      <td>0.050000</td>\n",
       "      <td>1</td>\n",
       "    </tr>\n",
       "    <tr>\n",
       "      <th>273</th>\n",
       "      <td>1</td>\n",
       "      <td>0.00</td>\n",
       "      <td>1.0</td>\n",
       "      <td>20.0</td>\n",
       "      <td>0.050000</td>\n",
       "      <td>1</td>\n",
       "    </tr>\n",
       "    <tr>\n",
       "      <th>284</th>\n",
       "      <td>1</td>\n",
       "      <td>0.00</td>\n",
       "      <td>1.0</td>\n",
       "      <td>12.0</td>\n",
       "      <td>0.033333</td>\n",
       "      <td>1</td>\n",
       "    </tr>\n",
       "    <tr>\n",
       "      <th>758</th>\n",
       "      <td>1</td>\n",
       "      <td>0.00</td>\n",
       "      <td>2.0</td>\n",
       "      <td>70.0</td>\n",
       "      <td>0.333333</td>\n",
       "      <td>2</td>\n",
       "    </tr>\n",
       "    <tr>\n",
       "      <th>1912</th>\n",
       "      <td>1</td>\n",
       "      <td>1.40</td>\n",
       "      <td>1.0</td>\n",
       "      <td>7.5</td>\n",
       "      <td>7.800000</td>\n",
       "      <td>1</td>\n",
       "    </tr>\n",
       "    <tr>\n",
       "      <th>...</th>\n",
       "      <td>...</td>\n",
       "      <td>...</td>\n",
       "      <td>...</td>\n",
       "      <td>...</td>\n",
       "      <td>...</td>\n",
       "      <td>...</td>\n",
       "    </tr>\n",
       "    <tr>\n",
       "      <th>782168</th>\n",
       "      <td>1</td>\n",
       "      <td>0.64</td>\n",
       "      <td>2.0</td>\n",
       "      <td>5.8</td>\n",
       "      <td>3.533333</td>\n",
       "      <td>2</td>\n",
       "    </tr>\n",
       "    <tr>\n",
       "      <th>782171</th>\n",
       "      <td>1</td>\n",
       "      <td>0.71</td>\n",
       "      <td>2.0</td>\n",
       "      <td>7.2</td>\n",
       "      <td>5.666667</td>\n",
       "      <td>2</td>\n",
       "    </tr>\n",
       "    <tr>\n",
       "      <th>782181</th>\n",
       "      <td>1</td>\n",
       "      <td>1.15</td>\n",
       "      <td>1.0</td>\n",
       "      <td>7.9</td>\n",
       "      <td>6.083333</td>\n",
       "      <td>1</td>\n",
       "    </tr>\n",
       "    <tr>\n",
       "      <th>782183</th>\n",
       "      <td>1</td>\n",
       "      <td>2.02</td>\n",
       "      <td>1.0</td>\n",
       "      <td>12.1</td>\n",
       "      <td>9.583333</td>\n",
       "      <td>1</td>\n",
       "    </tr>\n",
       "    <tr>\n",
       "      <th>782184</th>\n",
       "      <td>1</td>\n",
       "      <td>2.56</td>\n",
       "      <td>2.0</td>\n",
       "      <td>14.9</td>\n",
       "      <td>11.783333</td>\n",
       "      <td>2</td>\n",
       "    </tr>\n",
       "  </tbody>\n",
       "</table>\n",
       "<p>150448 rows × 6 columns</p>\n",
       "</div>"
      ],
      "text/plain": [
       "        passenger_count  trip_distance  payment_type  fare_amount  \\\n",
       "270                   1           0.00           1.0         20.0   \n",
       "273                   1           0.00           1.0         20.0   \n",
       "284                   1           0.00           1.0         12.0   \n",
       "758                   1           0.00           2.0         70.0   \n",
       "1912                  1           1.40           1.0          7.5   \n",
       "...                 ...            ...           ...          ...   \n",
       "782168                1           0.64           2.0          5.8   \n",
       "782171                1           0.71           2.0          7.2   \n",
       "782181                1           1.15           1.0          7.9   \n",
       "782183                1           2.02           1.0         12.1   \n",
       "782184                1           2.56           2.0         14.9   \n",
       "\n",
       "        trip_duration  payment_type   \n",
       "270          0.050000              1  \n",
       "273          0.050000              1  \n",
       "284          0.033333              1  \n",
       "758          0.333333              2  \n",
       "1912         7.800000              1  \n",
       "...               ...            ...  \n",
       "782168       3.533333              2  \n",
       "782171       5.666667              2  \n",
       "782181       6.083333              1  \n",
       "782183       9.583333              1  \n",
       "782184      11.783333              2  \n",
       "\n",
       "[150448 rows x 6 columns]"
      ]
     },
     "execution_count": 19,
     "metadata": {},
     "output_type": "execute_result"
    }
   ],
   "source": [
    "df[df.duplicated()]"
   ]
  },
  {
   "cell_type": "code",
   "execution_count": 20,
   "id": "eb13ab02-73c4-42b9-b548-d736714afafd",
   "metadata": {},
   "outputs": [],
   "source": [
    "df.drop_duplicates(inplace=True)"
   ]
  },
  {
   "cell_type": "code",
   "execution_count": 21,
   "id": "13056b3d-26cf-4d46-8b27-c661746b9b37",
   "metadata": {},
   "outputs": [
    {
     "data": {
      "text/plain": [
       "(580999, 6)"
      ]
     },
     "execution_count": 21,
     "metadata": {},
     "output_type": "execute_result"
    }
   ],
   "source": [
    "df.shape"
   ]
  },
  {
   "cell_type": "code",
   "execution_count": 22,
   "id": "9b1b9295-19b2-4920-bb07-582557b970fc",
   "metadata": {},
   "outputs": [
    {
     "data": {
      "text/plain": [
       "passenger_count\n",
       "1    0.812468\n",
       "2    0.104418\n",
       "5    0.033615\n",
       "3    0.017265\n",
       "6    0.015900\n",
       "0    0.010151\n",
       "4    0.006043\n",
       "7    0.000072\n",
       "8    0.000038\n",
       "9    0.000029\n",
       "Name: proportion, dtype: float64"
      ]
     },
     "execution_count": 22,
     "metadata": {},
     "output_type": "execute_result"
    }
   ],
   "source": [
    "df['passenger_count'].value_counts(normalize=True)"
   ]
  },
  {
   "cell_type": "code",
   "execution_count": 23,
   "id": "9c976014-764c-44bb-af8c-b0b9d43d6c48",
   "metadata": {},
   "outputs": [],
   "source": [
    "df=df[df['payment_type']<3]\n",
    "df=df[(df['passenger_count']>0)&(df['passenger_count']<6)]"
   ]
  },
  {
   "cell_type": "code",
   "execution_count": 24,
   "id": "afd80145-8c54-4f72-9aab-cd5ed619f783",
   "metadata": {},
   "outputs": [
    {
     "data": {
      "text/plain": [
       "(560245, 6)"
      ]
     },
     "execution_count": 24,
     "metadata": {},
     "output_type": "execute_result"
    }
   ],
   "source": [
    "df.shape"
   ]
  },
  {
   "cell_type": "code",
   "execution_count": 25,
   "id": "0388ca84-ca44-4854-861f-30235d61dac8",
   "metadata": {},
   "outputs": [],
   "source": [
    "df['payment_type'].replace([1,2],[\"Card\",\"Cash\"],inplace=True)"
   ]
  },
  {
   "cell_type": "code",
   "execution_count": 26,
   "id": "16d5c356-361e-4852-8ba9-57bd3ece152e",
   "metadata": {},
   "outputs": [
    {
     "data": {
      "text/html": [
       "<div>\n",
       "<style scoped>\n",
       "    .dataframe tbody tr th:only-of-type {\n",
       "        vertical-align: middle;\n",
       "    }\n",
       "\n",
       "    .dataframe tbody tr th {\n",
       "        vertical-align: top;\n",
       "    }\n",
       "\n",
       "    .dataframe thead th {\n",
       "        text-align: right;\n",
       "    }\n",
       "</style>\n",
       "<table border=\"1\" class=\"dataframe\">\n",
       "  <thead>\n",
       "    <tr style=\"text-align: right;\">\n",
       "      <th></th>\n",
       "      <th>passenger_count</th>\n",
       "      <th>trip_distance</th>\n",
       "      <th>payment_type</th>\n",
       "      <th>fare_amount</th>\n",
       "      <th>trip_duration</th>\n",
       "      <th>payment_type</th>\n",
       "    </tr>\n",
       "  </thead>\n",
       "  <tbody>\n",
       "    <tr>\n",
       "      <th>0</th>\n",
       "      <td>1</td>\n",
       "      <td>2.58</td>\n",
       "      <td>Card</td>\n",
       "      <td>14.9</td>\n",
       "      <td>11.016667</td>\n",
       "      <td>1</td>\n",
       "    </tr>\n",
       "    <tr>\n",
       "      <th>1</th>\n",
       "      <td>1</td>\n",
       "      <td>1.81</td>\n",
       "      <td>Card</td>\n",
       "      <td>10.7</td>\n",
       "      <td>6.766667</td>\n",
       "      <td>1</td>\n",
       "    </tr>\n",
       "    <tr>\n",
       "      <th>2</th>\n",
       "      <td>1</td>\n",
       "      <td>0.00</td>\n",
       "      <td>Card</td>\n",
       "      <td>7.2</td>\n",
       "      <td>6.333333</td>\n",
       "      <td>1</td>\n",
       "    </tr>\n",
       "    <tr>\n",
       "      <th>3</th>\n",
       "      <td>1</td>\n",
       "      <td>1.30</td>\n",
       "      <td>Card</td>\n",
       "      <td>6.5</td>\n",
       "      <td>5.816667</td>\n",
       "      <td>1</td>\n",
       "    </tr>\n",
       "    <tr>\n",
       "      <th>4</th>\n",
       "      <td>1</td>\n",
       "      <td>1.10</td>\n",
       "      <td>Card</td>\n",
       "      <td>6.0</td>\n",
       "      <td>5.966667</td>\n",
       "      <td>1</td>\n",
       "    </tr>\n",
       "    <tr>\n",
       "      <th>...</th>\n",
       "      <td>...</td>\n",
       "      <td>...</td>\n",
       "      <td>...</td>\n",
       "      <td>...</td>\n",
       "      <td>...</td>\n",
       "      <td>...</td>\n",
       "    </tr>\n",
       "    <tr>\n",
       "      <th>782186</th>\n",
       "      <td>1</td>\n",
       "      <td>4.47</td>\n",
       "      <td>Cash</td>\n",
       "      <td>21.2</td>\n",
       "      <td>15.333333</td>\n",
       "      <td>2</td>\n",
       "    </tr>\n",
       "    <tr>\n",
       "      <th>782187</th>\n",
       "      <td>1</td>\n",
       "      <td>14.44</td>\n",
       "      <td>Card</td>\n",
       "      <td>56.9</td>\n",
       "      <td>28.266667</td>\n",
       "      <td>1</td>\n",
       "    </tr>\n",
       "    <tr>\n",
       "      <th>782188</th>\n",
       "      <td>1</td>\n",
       "      <td>3.18</td>\n",
       "      <td>Cash</td>\n",
       "      <td>17.7</td>\n",
       "      <td>13.983333</td>\n",
       "      <td>2</td>\n",
       "    </tr>\n",
       "    <tr>\n",
       "      <th>782189</th>\n",
       "      <td>1</td>\n",
       "      <td>1.02</td>\n",
       "      <td>Cash</td>\n",
       "      <td>6.5</td>\n",
       "      <td>2.433333</td>\n",
       "      <td>2</td>\n",
       "    </tr>\n",
       "    <tr>\n",
       "      <th>782190</th>\n",
       "      <td>1</td>\n",
       "      <td>0.27</td>\n",
       "      <td>Cash</td>\n",
       "      <td>4.4</td>\n",
       "      <td>1.616667</td>\n",
       "      <td>2</td>\n",
       "    </tr>\n",
       "  </tbody>\n",
       "</table>\n",
       "<p>560245 rows × 6 columns</p>\n",
       "</div>"
      ],
      "text/plain": [
       "        passenger_count  trip_distance payment_type  fare_amount  \\\n",
       "0                     1           2.58         Card         14.9   \n",
       "1                     1           1.81         Card         10.7   \n",
       "2                     1           0.00         Card          7.2   \n",
       "3                     1           1.30         Card          6.5   \n",
       "4                     1           1.10         Card          6.0   \n",
       "...                 ...            ...          ...          ...   \n",
       "782186                1           4.47         Cash         21.2   \n",
       "782187                1          14.44         Card         56.9   \n",
       "782188                1           3.18         Cash         17.7   \n",
       "782189                1           1.02         Cash          6.5   \n",
       "782190                1           0.27         Cash          4.4   \n",
       "\n",
       "        trip_duration  payment_type   \n",
       "0           11.016667              1  \n",
       "1            6.766667              1  \n",
       "2            6.333333              1  \n",
       "3            5.816667              1  \n",
       "4            5.966667              1  \n",
       "...               ...            ...  \n",
       "782186      15.333333              2  \n",
       "782187      28.266667              1  \n",
       "782188      13.983333              2  \n",
       "782189       2.433333              2  \n",
       "782190       1.616667              2  \n",
       "\n",
       "[560245 rows x 6 columns]"
      ]
     },
     "execution_count": 26,
     "metadata": {},
     "output_type": "execute_result"
    }
   ],
   "source": [
    "df"
   ]
  },
  {
   "cell_type": "code",
   "execution_count": 27,
   "id": "d166104c-f8ba-47a4-81d8-8ec2ec96fa83",
   "metadata": {},
   "outputs": [
    {
     "data": {
      "text/html": [
       "<div>\n",
       "<style scoped>\n",
       "    .dataframe tbody tr th:only-of-type {\n",
       "        vertical-align: middle;\n",
       "    }\n",
       "\n",
       "    .dataframe tbody tr th {\n",
       "        vertical-align: top;\n",
       "    }\n",
       "\n",
       "    .dataframe thead th {\n",
       "        text-align: right;\n",
       "    }\n",
       "</style>\n",
       "<table border=\"1\" class=\"dataframe\">\n",
       "  <thead>\n",
       "    <tr style=\"text-align: right;\">\n",
       "      <th></th>\n",
       "      <th>passenger_count</th>\n",
       "      <th>trip_distance</th>\n",
       "      <th>fare_amount</th>\n",
       "      <th>trip_duration</th>\n",
       "      <th>payment_type</th>\n",
       "    </tr>\n",
       "  </thead>\n",
       "  <tbody>\n",
       "    <tr>\n",
       "      <th>count</th>\n",
       "      <td>560245.000000</td>\n",
       "      <td>560245.000000</td>\n",
       "      <td>560245.000000</td>\n",
       "      <td>560245.000000</td>\n",
       "      <td>560245.000000</td>\n",
       "    </tr>\n",
       "    <tr>\n",
       "      <th>mean</th>\n",
       "      <td>1.299458</td>\n",
       "      <td>3.373305</td>\n",
       "      <td>19.923258</td>\n",
       "      <td>22.595974</td>\n",
       "      <td>1.354047</td>\n",
       "    </tr>\n",
       "    <tr>\n",
       "      <th>std</th>\n",
       "      <td>0.835376</td>\n",
       "      <td>60.460555</td>\n",
       "      <td>20.260925</td>\n",
       "      <td>90.594665</td>\n",
       "      <td>0.478224</td>\n",
       "    </tr>\n",
       "    <tr>\n",
       "      <th>min</th>\n",
       "      <td>1.000000</td>\n",
       "      <td>0.000000</td>\n",
       "      <td>-1.500000</td>\n",
       "      <td>0.000000</td>\n",
       "      <td>1.000000</td>\n",
       "    </tr>\n",
       "    <tr>\n",
       "      <th>25%</th>\n",
       "      <td>1.000000</td>\n",
       "      <td>1.290000</td>\n",
       "      <td>10.700000</td>\n",
       "      <td>8.650000</td>\n",
       "      <td>1.000000</td>\n",
       "    </tr>\n",
       "    <tr>\n",
       "      <th>50%</th>\n",
       "      <td>1.000000</td>\n",
       "      <td>2.200000</td>\n",
       "      <td>15.600000</td>\n",
       "      <td>13.316667</td>\n",
       "      <td>1.000000</td>\n",
       "    </tr>\n",
       "    <tr>\n",
       "      <th>75%</th>\n",
       "      <td>1.000000</td>\n",
       "      <td>3.790000</td>\n",
       "      <td>23.300000</td>\n",
       "      <td>20.200000</td>\n",
       "      <td>2.000000</td>\n",
       "    </tr>\n",
       "    <tr>\n",
       "      <th>max</th>\n",
       "      <td>5.000000</td>\n",
       "      <td>29151.880000</td>\n",
       "      <td>4003.000000</td>\n",
       "      <td>1439.916667</td>\n",
       "      <td>2.000000</td>\n",
       "    </tr>\n",
       "  </tbody>\n",
       "</table>\n",
       "</div>"
      ],
      "text/plain": [
       "       passenger_count  trip_distance    fare_amount  trip_duration  \\\n",
       "count    560245.000000  560245.000000  560245.000000  560245.000000   \n",
       "mean          1.299458       3.373305      19.923258      22.595974   \n",
       "std           0.835376      60.460555      20.260925      90.594665   \n",
       "min           1.000000       0.000000      -1.500000       0.000000   \n",
       "25%           1.000000       1.290000      10.700000       8.650000   \n",
       "50%           1.000000       2.200000      15.600000      13.316667   \n",
       "75%           1.000000       3.790000      23.300000      20.200000   \n",
       "max           5.000000   29151.880000    4003.000000    1439.916667   \n",
       "\n",
       "       payment_type   \n",
       "count  560245.000000  \n",
       "mean        1.354047  \n",
       "std         0.478224  \n",
       "min         1.000000  \n",
       "25%         1.000000  \n",
       "50%         1.000000  \n",
       "75%         2.000000  \n",
       "max         2.000000  "
      ]
     },
     "execution_count": 27,
     "metadata": {},
     "output_type": "execute_result"
    }
   ],
   "source": [
    "df.describe()"
   ]
  },
  {
   "cell_type": "code",
   "execution_count": 28,
   "id": "35528b14-ae6c-4ab4-adc8-8421891c5356",
   "metadata": {},
   "outputs": [],
   "source": [
    "df=df[df['trip_distance']>0]\n",
    "df=df[df['fare_amount']>0]\n",
    "df=df[df['trip_duration']>0]"
   ]
  },
  {
   "cell_type": "code",
   "execution_count": 29,
   "id": "f2c94768-72d7-4fea-a464-cf364af556ad",
   "metadata": {},
   "outputs": [
    {
     "data": {
      "text/html": [
       "<div>\n",
       "<style scoped>\n",
       "    .dataframe tbody tr th:only-of-type {\n",
       "        vertical-align: middle;\n",
       "    }\n",
       "\n",
       "    .dataframe tbody tr th {\n",
       "        vertical-align: top;\n",
       "    }\n",
       "\n",
       "    .dataframe thead th {\n",
       "        text-align: right;\n",
       "    }\n",
       "</style>\n",
       "<table border=\"1\" class=\"dataframe\">\n",
       "  <thead>\n",
       "    <tr style=\"text-align: right;\">\n",
       "      <th></th>\n",
       "      <th>passenger_count</th>\n",
       "      <th>trip_distance</th>\n",
       "      <th>fare_amount</th>\n",
       "      <th>trip_duration</th>\n",
       "      <th>payment_type</th>\n",
       "    </tr>\n",
       "  </thead>\n",
       "  <tbody>\n",
       "    <tr>\n",
       "      <th>count</th>\n",
       "      <td>538055.000000</td>\n",
       "      <td>538055.000000</td>\n",
       "      <td>538055.000000</td>\n",
       "      <td>538055.000000</td>\n",
       "      <td>538055.000000</td>\n",
       "    </tr>\n",
       "    <tr>\n",
       "      <th>mean</th>\n",
       "      <td>1.304894</td>\n",
       "      <td>3.509456</td>\n",
       "      <td>19.510510</td>\n",
       "      <td>22.397468</td>\n",
       "      <td>1.361409</td>\n",
       "    </tr>\n",
       "    <tr>\n",
       "      <th>std</th>\n",
       "      <td>0.844157</td>\n",
       "      <td>61.690488</td>\n",
       "      <td>19.560196</td>\n",
       "      <td>91.499990</td>\n",
       "      <td>0.480409</td>\n",
       "    </tr>\n",
       "    <tr>\n",
       "      <th>min</th>\n",
       "      <td>1.000000</td>\n",
       "      <td>0.010000</td>\n",
       "      <td>0.010000</td>\n",
       "      <td>0.016667</td>\n",
       "      <td>1.000000</td>\n",
       "    </tr>\n",
       "    <tr>\n",
       "      <th>25%</th>\n",
       "      <td>1.000000</td>\n",
       "      <td>1.380000</td>\n",
       "      <td>10.700000</td>\n",
       "      <td>8.683333</td>\n",
       "      <td>1.000000</td>\n",
       "    </tr>\n",
       "    <tr>\n",
       "      <th>50%</th>\n",
       "      <td>1.000000</td>\n",
       "      <td>2.300000</td>\n",
       "      <td>14.900000</td>\n",
       "      <td>13.216667</td>\n",
       "      <td>1.000000</td>\n",
       "    </tr>\n",
       "    <tr>\n",
       "      <th>75%</th>\n",
       "      <td>1.000000</td>\n",
       "      <td>3.870000</td>\n",
       "      <td>22.600000</td>\n",
       "      <td>19.783333</td>\n",
       "      <td>2.000000</td>\n",
       "    </tr>\n",
       "    <tr>\n",
       "      <th>max</th>\n",
       "      <td>5.000000</td>\n",
       "      <td>29151.880000</td>\n",
       "      <td>4003.000000</td>\n",
       "      <td>1439.916667</td>\n",
       "      <td>2.000000</td>\n",
       "    </tr>\n",
       "  </tbody>\n",
       "</table>\n",
       "</div>"
      ],
      "text/plain": [
       "       passenger_count  trip_distance    fare_amount  trip_duration  \\\n",
       "count    538055.000000  538055.000000  538055.000000  538055.000000   \n",
       "mean          1.304894       3.509456      19.510510      22.397468   \n",
       "std           0.844157      61.690488      19.560196      91.499990   \n",
       "min           1.000000       0.010000       0.010000       0.016667   \n",
       "25%           1.000000       1.380000      10.700000       8.683333   \n",
       "50%           1.000000       2.300000      14.900000      13.216667   \n",
       "75%           1.000000       3.870000      22.600000      19.783333   \n",
       "max           5.000000   29151.880000    4003.000000    1439.916667   \n",
       "\n",
       "       payment_type   \n",
       "count  538055.000000  \n",
       "mean        1.361409  \n",
       "std         0.480409  \n",
       "min         1.000000  \n",
       "25%         1.000000  \n",
       "50%         1.000000  \n",
       "75%         2.000000  \n",
       "max         2.000000  "
      ]
     },
     "execution_count": 29,
     "metadata": {},
     "output_type": "execute_result"
    }
   ],
   "source": [
    "df.describe()"
   ]
  },
  {
   "cell_type": "code",
   "execution_count": 30,
   "id": "4e51f5bb-469b-41ee-acac-38ed16c7e061",
   "metadata": {},
   "outputs": [
    {
     "data": {
      "image/png": "[encoded data removed]",
      "text/plain": [
       "<Figure size 640x480 with 1 Axes>"
      ]
     },
     "metadata": {},
     "output_type": "display_data"
    }
   ],
   "source": [
    "\n",
    "cols = ['fare_amount', 'trip_duration', 'trip_distance']\n",
    "\n",
    "# Boxplot\n",
    "sns.boxplot(data=df[cols])\n",
    "plt.title(\"Boxplot for fare_amount, trip_duration, and trip_distance\")\n",
    "plt.show()"
   ]
  },
  {
   "cell_type": "code",
   "execution_count": 31,
   "id": "624c3f18-749b-4c08-babc-7c67de695fea",
   "metadata": {},
   "outputs": [
    {
     "data": {
      "text/plain": [
       "Index(['passenger_count', 'trip_distance', 'payment_type', 'fare_amount',\n",
       "       'trip_duration', 'payment_type '],\n",
       "      dtype='object')"
      ]
     },
     "execution_count": 31,
     "metadata": {},
     "output_type": "execute_result"
    }
   ],
   "source": [
    "df.columns"
   ]
  },
  {
   "cell_type": "code",
   "execution_count": 32,
   "id": "be6ed5e1-9c35-4d63-9561-6cce7bb7b53b",
   "metadata": {},
   "outputs": [],
   "source": [
    "for col in ['fare_amount','trip_duration','trip_distance']:\n",
    "    q1 = df[col].quantile(0.25)\n",
    "    q3 = df[col].quantile(0.75)\n",
    "    IQR = q3 - q1\n",
    "\n",
    "    lower_bound = q1 - 1.5 * IQR\n",
    "    upper_bound = q3 + 1.5 * IQR\n",
    "\n",
    "    # Filter the dataframe\n",
    "    df = df[(df[col] > lower_bound) & (df[col] <= upper_bound)]\n",
    "\n",
    "    "
   ]
  },
  {
   "cell_type": "code",
   "execution_count": 33,
   "id": "aa9ad513-67bf-4ebd-919c-6624a94ddc30",
   "metadata": {},
   "outputs": [
    {
     "data": {
      "text/plain": [
       "(457217, 6)"
      ]
     },
     "execution_count": 33,
     "metadata": {},
     "output_type": "execute_result"
    }
   ],
   "source": [
    "df.shape"
   ]
  },
  {
   "cell_type": "code",
   "execution_count": 34,
   "id": "e8353976-06fa-4ff3-bf26-35778d4f8a7f",
   "metadata": {},
   "outputs": [
    {
     "data": {
      "image/png": "[encoded data removed]",
      "text/plain": [
       "<Figure size 1200x500 with 1 Axes>"
      ]
     },
     "metadata": {},
     "output_type": "display_data"
    },
    {
     "data": {
      "image/png": "[encoded data removed]",
      "text/plain": [
       "<Figure size 1200x500 with 1 Axes>"
      ]
     },
     "metadata": {},
     "output_type": "display_data"
    }
   ],
   "source": [
    "plt.figure(figsize=(12,5))   \n",
    "plt.subplot(1,2,1)           \n",
    "plt.title('Distribution Of Fare amount')\n",
    "\n",
    "plt.hist(df[df['payment_type']=='Card']['fare_amount'],histtype='barstacked', bins=20,edgecolor='k',color='#FA643F',label='Card')\n",
    "plt.hist(df[df['payment_type']=='Cash']['fare_amount'],histtype='barstacked',bins=20,edgecolor='k',color='#3B82F6',label='Cash')\n",
    "\n",
    "plt.xlabel('Fare Amount')\n",
    "plt.ylabel('Frequency')\n",
    "plt.legend()\n",
    "plt.show()\n",
    "\n",
    "plt.figure(figsize=(12,5)) \n",
    "plt.subplot(1,2,2)          \n",
    "plt.title('Distribution Of trip_distance')\n",
    "plt.hist(df[df['payment_type']=='Card']['trip_distance'],histtype='barstacked', bins=20,edgecolor='k',color='#FA643F',label='Card')\n",
    "plt.hist(df[df['payment_type']=='Cash']['trip_distance'],histtype='barstacked',bins=20,edgecolor='k',color='#3B82F6',label='Cash')\n",
    "\n",
    "plt.xlabel('trip_distance')\n",
    "plt.ylabel('Frequency')\n",
    "plt.legend()\n",
    "plt.show()\n"
   ]
  },
  {
   "cell_type": "code",
   "execution_count": 35,
   "id": "10ed0066-baa5-409d-b161-4e9fc1b92e67",
   "metadata": {},
   "outputs": [
    {
     "data": {
      "text/html": [
       "<div>\n",
       "<style scoped>\n",
       "    .dataframe tbody tr th:only-of-type {\n",
       "        vertical-align: middle;\n",
       "    }\n",
       "\n",
       "    .dataframe tbody tr th {\n",
       "        vertical-align: top;\n",
       "    }\n",
       "\n",
       "    .dataframe thead tr th {\n",
       "        text-align: left;\n",
       "    }\n",
       "\n",
       "    .dataframe thead tr:last-of-type th {\n",
       "        text-align: right;\n",
       "    }\n",
       "</style>\n",
       "<table border=\"1\" class=\"dataframe\">\n",
       "  <thead>\n",
       "    <tr>\n",
       "      <th></th>\n",
       "      <th colspan=\"2\" halign=\"left\">fare_amount</th>\n",
       "      <th colspan=\"2\" halign=\"left\">trip_distance</th>\n",
       "    </tr>\n",
       "    <tr>\n",
       "      <th></th>\n",
       "      <th>mean</th>\n",
       "      <th>std</th>\n",
       "      <th>mean</th>\n",
       "      <th>std</th>\n",
       "    </tr>\n",
       "    <tr>\n",
       "      <th>payment_type</th>\n",
       "      <th></th>\n",
       "      <th></th>\n",
       "      <th></th>\n",
       "      <th></th>\n",
       "    </tr>\n",
       "  </thead>\n",
       "  <tbody>\n",
       "    <tr>\n",
       "      <th>Card</th>\n",
       "      <td>15.186240</td>\n",
       "      <td>6.230600</td>\n",
       "      <td>2.388701</td>\n",
       "      <td>1.343069</td>\n",
       "    </tr>\n",
       "    <tr>\n",
       "      <th>Cash</th>\n",
       "      <td>13.761881</td>\n",
       "      <td>6.180912</td>\n",
       "      <td>2.108091</td>\n",
       "      <td>1.335661</td>\n",
       "    </tr>\n",
       "  </tbody>\n",
       "</table>\n",
       "</div>"
      ],
      "text/plain": [
       "             fare_amount           trip_distance          \n",
       "                    mean       std          mean       std\n",
       "payment_type                                              \n",
       "Card           15.186240  6.230600      2.388701  1.343069\n",
       "Cash           13.761881  6.180912      2.108091  1.335661"
      ]
     },
     "execution_count": 35,
     "metadata": {},
     "output_type": "execute_result"
    }
   ],
   "source": [
    "df.groupby('payment_type').agg({'fare_amount':['mean','std'],'trip_distance':['mean','std']})"
   ]
  },
  {
   "cell_type": "code",
   "execution_count": 36,
   "id": "eaf74272-5f2e-4b01-914a-44858d5b1de4",
   "metadata": {},
   "outputs": [
    {
     "data": {
      "image/png": "[encoded data removed]",
      "text/plain": [
       "<Figure size 640x480 with 1 Axes>"
      ]
     },
     "metadata": {},
     "output_type": "display_data"
    }
   ],
   "source": [
    "plt.title('Prefrence of payment type')\n",
    "plt.pie(df['payment_type'].value_counts(normalize=True),labels=df['payment_type'].value_counts().index,\n",
    "        startangle=90,shadow=True,autopct=\"%1.1f%%\",colors=['#FA643F','#FFBCAB'])\n",
    "plt.show()\n",
    "        \n",
    "          "
   ]
  },
  {
   "cell_type": "code",
   "execution_count": 37,
   "id": "0108121c-47b3-4a5b-9389-36f9c3b501bb",
   "metadata": {},
   "outputs": [
    {
     "data": {
      "text/plain": [
       "Index(['passenger_count', 'trip_distance', 'payment_type', 'fare_amount',\n",
       "       'trip_duration', 'payment_type '],\n",
       "      dtype='object')"
      ]
     },
     "execution_count": 37,
     "metadata": {},
     "output_type": "execute_result"
    }
   ],
   "source": [
    "df.columns"
   ]
  },
  {
   "cell_type": "code",
   "execution_count": 38,
   "id": "e34050c5-ca57-4372-8f24-e76752ce6e6f",
   "metadata": {},
   "outputs": [],
   "source": [
    "passenger_count=df.groupby(['payment_type','passenger_count'])[['passenger_count']].count()\n",
    "passenger_count.rename(columns={'passenger_count':'count'},inplace=True)\n",
    "passenger_count.reset_index(inplace=True)"
   ]
  },
  {
   "cell_type": "code",
   "execution_count": 39,
   "id": "5fd65ab9-f870-4be0-9579-00889f1b253a",
   "metadata": {},
   "outputs": [
    {
     "data": {
      "text/html": [
       "<div>\n",
       "<style scoped>\n",
       "    .dataframe tbody tr th:only-of-type {\n",
       "        vertical-align: middle;\n",
       "    }\n",
       "\n",
       "    .dataframe tbody tr th {\n",
       "        vertical-align: top;\n",
       "    }\n",
       "\n",
       "    .dataframe thead th {\n",
       "        text-align: right;\n",
       "    }\n",
       "</style>\n",
       "<table border=\"1\" class=\"dataframe\">\n",
       "  <thead>\n",
       "    <tr style=\"text-align: right;\">\n",
       "      <th></th>\n",
       "      <th>payment_type</th>\n",
       "      <th>passenger_count</th>\n",
       "      <th>count</th>\n",
       "    </tr>\n",
       "  </thead>\n",
       "  <tbody>\n",
       "    <tr>\n",
       "      <th>0</th>\n",
       "      <td>Card</td>\n",
       "      <td>1</td>\n",
       "      <td>243569</td>\n",
       "    </tr>\n",
       "    <tr>\n",
       "      <th>1</th>\n",
       "      <td>Card</td>\n",
       "      <td>2</td>\n",
       "      <td>30658</td>\n",
       "    </tr>\n",
       "    <tr>\n",
       "      <th>2</th>\n",
       "      <td>Card</td>\n",
       "      <td>3</td>\n",
       "      <td>4881</td>\n",
       "    </tr>\n",
       "    <tr>\n",
       "      <th>3</th>\n",
       "      <td>Card</td>\n",
       "      <td>4</td>\n",
       "      <td>1770</td>\n",
       "    </tr>\n",
       "    <tr>\n",
       "      <th>4</th>\n",
       "      <td>Card</td>\n",
       "      <td>5</td>\n",
       "      <td>11006</td>\n",
       "    </tr>\n",
       "    <tr>\n",
       "      <th>5</th>\n",
       "      <td>Cash</td>\n",
       "      <td>1</td>\n",
       "      <td>137625</td>\n",
       "    </tr>\n",
       "    <tr>\n",
       "      <th>6</th>\n",
       "      <td>Cash</td>\n",
       "      <td>2</td>\n",
       "      <td>18470</td>\n",
       "    </tr>\n",
       "    <tr>\n",
       "      <th>7</th>\n",
       "      <td>Cash</td>\n",
       "      <td>3</td>\n",
       "      <td>3126</td>\n",
       "    </tr>\n",
       "    <tr>\n",
       "      <th>8</th>\n",
       "      <td>Cash</td>\n",
       "      <td>4</td>\n",
       "      <td>783</td>\n",
       "    </tr>\n",
       "    <tr>\n",
       "      <th>9</th>\n",
       "      <td>Cash</td>\n",
       "      <td>5</td>\n",
       "      <td>5329</td>\n",
       "    </tr>\n",
       "  </tbody>\n",
       "</table>\n",
       "</div>"
      ],
      "text/plain": [
       "  payment_type  passenger_count   count\n",
       "0         Card                1  243569\n",
       "1         Card                2   30658\n",
       "2         Card                3    4881\n",
       "3         Card                4    1770\n",
       "4         Card                5   11006\n",
       "5         Cash                1  137625\n",
       "6         Cash                2   18470\n",
       "7         Cash                3    3126\n",
       "8         Cash                4     783\n",
       "9         Cash                5    5329"
      ]
     },
     "execution_count": 39,
     "metadata": {},
     "output_type": "execute_result"
    }
   ],
   "source": [
    "passenger_count"
   ]
  },
  {
   "cell_type": "code",
   "execution_count": 40,
   "id": "bfeb4e04-b80d-4b96-a1e9-15e6c8065f78",
   "metadata": {},
   "outputs": [
    {
     "data": {
      "text/html": [
       "<div>\n",
       "<style scoped>\n",
       "    .dataframe tbody tr th:only-of-type {\n",
       "        vertical-align: middle;\n",
       "    }\n",
       "\n",
       "    .dataframe tbody tr th {\n",
       "        vertical-align: top;\n",
       "    }\n",
       "\n",
       "    .dataframe thead th {\n",
       "        text-align: right;\n",
       "    }\n",
       "</style>\n",
       "<table border=\"1\" class=\"dataframe\">\n",
       "  <thead>\n",
       "    <tr style=\"text-align: right;\">\n",
       "      <th></th>\n",
       "      <th>payment_type</th>\n",
       "      <th>passenger_count</th>\n",
       "      <th>count</th>\n",
       "      <th>Prc</th>\n",
       "    </tr>\n",
       "  </thead>\n",
       "  <tbody>\n",
       "    <tr>\n",
       "      <th>0</th>\n",
       "      <td>Card</td>\n",
       "      <td>1</td>\n",
       "      <td>243569</td>\n",
       "      <td>53.272079</td>\n",
       "    </tr>\n",
       "    <tr>\n",
       "      <th>1</th>\n",
       "      <td>Card</td>\n",
       "      <td>2</td>\n",
       "      <td>30658</td>\n",
       "      <td>6.705350</td>\n",
       "    </tr>\n",
       "    <tr>\n",
       "      <th>2</th>\n",
       "      <td>Card</td>\n",
       "      <td>3</td>\n",
       "      <td>4881</td>\n",
       "      <td>1.067546</td>\n",
       "    </tr>\n",
       "    <tr>\n",
       "      <th>3</th>\n",
       "      <td>Card</td>\n",
       "      <td>4</td>\n",
       "      <td>1770</td>\n",
       "      <td>0.387125</td>\n",
       "    </tr>\n",
       "    <tr>\n",
       "      <th>4</th>\n",
       "      <td>Card</td>\n",
       "      <td>5</td>\n",
       "      <td>11006</td>\n",
       "      <td>2.407172</td>\n",
       "    </tr>\n",
       "    <tr>\n",
       "      <th>5</th>\n",
       "      <td>Cash</td>\n",
       "      <td>1</td>\n",
       "      <td>137625</td>\n",
       "      <td>30.100587</td>\n",
       "    </tr>\n",
       "    <tr>\n",
       "      <th>6</th>\n",
       "      <td>Cash</td>\n",
       "      <td>2</td>\n",
       "      <td>18470</td>\n",
       "      <td>4.039657</td>\n",
       "    </tr>\n",
       "    <tr>\n",
       "      <th>7</th>\n",
       "      <td>Cash</td>\n",
       "      <td>3</td>\n",
       "      <td>3126</td>\n",
       "      <td>0.683702</td>\n",
       "    </tr>\n",
       "    <tr>\n",
       "      <th>8</th>\n",
       "      <td>Cash</td>\n",
       "      <td>4</td>\n",
       "      <td>783</td>\n",
       "      <td>0.171253</td>\n",
       "    </tr>\n",
       "    <tr>\n",
       "      <th>9</th>\n",
       "      <td>Cash</td>\n",
       "      <td>5</td>\n",
       "      <td>5329</td>\n",
       "      <td>1.165530</td>\n",
       "    </tr>\n",
       "  </tbody>\n",
       "</table>\n",
       "</div>"
      ],
      "text/plain": [
       "  payment_type  passenger_count   count        Prc\n",
       "0         Card                1  243569  53.272079\n",
       "1         Card                2   30658   6.705350\n",
       "2         Card                3    4881   1.067546\n",
       "3         Card                4    1770   0.387125\n",
       "4         Card                5   11006   2.407172\n",
       "5         Cash                1  137625  30.100587\n",
       "6         Cash                2   18470   4.039657\n",
       "7         Cash                3    3126   0.683702\n",
       "8         Cash                4     783   0.171253\n",
       "9         Cash                5    5329   1.165530"
      ]
     },
     "execution_count": 40,
     "metadata": {},
     "output_type": "execute_result"
    }
   ],
   "source": [
    "passenger_count['Prc'] = (passenger_count['count'] / passenger_count['count'].sum()) * 100\n",
    "passenger_count"
   ]
  },
  {
   "cell_type": "code",
   "execution_count": 41,
   "id": "829c6bd0-127c-4811-9982-1f82838b89cf",
   "metadata": {},
   "outputs": [
    {
     "name": "stdout",
     "output_type": "stream",
     "text": [
      "Index(['payment_type', 'passenger_count', 'count', 'Prc'], dtype='object')\n"
     ]
    }
   ],
   "source": [
    "print(passenger_count.columns)   # shows original column names\n"
   ]
  },
  {
   "cell_type": "code",
   "execution_count": 42,
   "id": "8e6ad667-d8e4-423a-a11d-423a7c445c1f",
   "metadata": {},
   "outputs": [
    {
     "data": {
      "text/html": [
       "<div>\n",
       "<style scoped>\n",
       "    .dataframe tbody tr th:only-of-type {\n",
       "        vertical-align: middle;\n",
       "    }\n",
       "\n",
       "    .dataframe tbody tr th {\n",
       "        vertical-align: top;\n",
       "    }\n",
       "\n",
       "    .dataframe thead th {\n",
       "        text-align: right;\n",
       "    }\n",
       "</style>\n",
       "<table border=\"1\" class=\"dataframe\">\n",
       "  <thead>\n",
       "    <tr style=\"text-align: right;\">\n",
       "      <th>passenger_count</th>\n",
       "      <th>payment_type</th>\n",
       "      <th>1</th>\n",
       "      <th>2</th>\n",
       "      <th>3</th>\n",
       "      <th>4</th>\n",
       "      <th>5</th>\n",
       "    </tr>\n",
       "  </thead>\n",
       "  <tbody>\n",
       "    <tr>\n",
       "      <th>0</th>\n",
       "      <td>Card</td>\n",
       "      <td>53.272079</td>\n",
       "      <td>6.705350</td>\n",
       "      <td>1.067546</td>\n",
       "      <td>0.387125</td>\n",
       "      <td>2.407172</td>\n",
       "    </tr>\n",
       "    <tr>\n",
       "      <th>1</th>\n",
       "      <td>Cash</td>\n",
       "      <td>30.100587</td>\n",
       "      <td>4.039657</td>\n",
       "      <td>0.683702</td>\n",
       "      <td>0.171253</td>\n",
       "      <td>1.165530</td>\n",
       "    </tr>\n",
       "  </tbody>\n",
       "</table>\n",
       "</div>"
      ],
      "text/plain": [
       "passenger_count payment_type          1         2         3         4  \\\n",
       "0                       Card  53.272079  6.705350  1.067546  0.387125   \n",
       "1                       Cash  30.100587  4.039657  0.683702  0.171253   \n",
       "\n",
       "passenger_count         5  \n",
       "0                2.407172  \n",
       "1                1.165530  "
      ]
     },
     "execution_count": 42,
     "metadata": {},
     "output_type": "execute_result"
    }
   ],
   "source": [
    "df_new = passenger_count.pivot(index='payment_type', \n",
    "                               columns='passenger_count', \n",
    "                               values='Prc').reset_index()\n",
    "\n",
    "df_new"
   ]
  },
  {
   "cell_type": "code",
   "execution_count": 43,
   "id": "6589780e-13a2-40c6-89e6-0156e9d6d757",
   "metadata": {},
   "outputs": [
    {
     "data": {
      "image/png": "[encoded data removed]",
      "text/plain": [
       "<Figure size 2500x600 with 1 Axes>"
      ]
     },
     "metadata": {},
     "output_type": "display_data"
    }
   ],
   "source": [
    "fig, ax = plt.subplots(figsize=(25,6))\n",
    "\n",
    "# stacked bar chart\n",
    "df_new.plot(x='payment_type',kind='barh',stacked=True,ax=ax,\n",
    "    color=['#FA643F','#FFBCAB','#CBB2B2','#F1F1F1','#FD9F9F']\n",
    ")\n",
    "\n",
    "# add percentage labels inside bars\n",
    "for p in ax.patches:\n",
    "    width = p.get_width()\n",
    "    if width > 0:  # avoid labeling 0 values\n",
    "        x, y = p.get_xy()\n",
    "        height = p.get_height()\n",
    "        ax.text(x + width/2,\n",
    "                y + height/2,\n",
    "                '{:.0f}%'.format(width),  # show integer %\n",
    "                ha='center',\n",
    "                va='center',\n",
    "                fontsize=10,\n",
    "                color='black')"
   ]
  },
  {
   "cell_type": "markdown",
   "id": "3e23293e-4362-4f54-83fd-34540a3302e3",
   "metadata": {},
   "source": [
    "# Null Hypothesis: There's no diffrence in  average between customers who use credit card and customers who use cash\n",
    "# Alternative Hypothesis: there's diffrence in average between customers who use credit card and customers who use cash"
   ]
  },
  {
   "cell_type": "code",
   "execution_count": 44,
   "id": "58f8b420-8c97-4de6-8011-ddbb28b728c2",
   "metadata": {},
   "outputs": [],
   "source": [
    "Card_sample = df[df['payment_type'] == 'Card']['fare_amount']\n",
    "Cash_sample = df[df['payment_type'] == 'Cash']['fare_amount']\n"
   ]
  },
  {
   "cell_type": "code",
   "execution_count": 45,
   "id": "b3eb87d5-0039-401e-a79d-931989b9eccf",
   "metadata": {},
   "outputs": [
    {
     "name": "stdout",
     "output_type": "stream",
     "text": [
      "T_Statistics 74.64946483888909 P_value 0.0\n"
     ]
    }
   ],
   "source": [
    "t_stats,P_vlue = st.ttest_ind(a = Card_sample,b =  Cash_sample, equal_var=False)\n",
    "print('T_Statistics',t_stats,'P_value',P_vlue)"
   ]
  },
  {
   "cell_type": "code",
   "execution_count": 46,
   "id": "8803b070-fd9c-4f11-919a-d07af281bc70",
   "metadata": {},
   "outputs": [
    {
     "name": "stdout",
     "output_type": "stream",
     "text": [
      "T-Statistic: 74.6495, P-value: 0.0000\n",
      "Reject Null Hypothesis: There IS a significant difference between customers who use credit card and customers who use cash.\n"
     ]
    }
   ],
   "source": [
    "alpha = 0.05  # significance level\n",
    "\n",
    "T_statistic = 74.64946483888909\n",
    "p_value = 0.0\n",
    "\n",
    "print(f\"T-Statistic: {T_statistic:.4f}, P-value: {p_value:.4f}\")\n",
    "\n",
    "if p_value < alpha:\n",
    "    print(\"Reject Null Hypothesis: There IS a significant difference \"\n",
    "          \"between customers who use credit card and customers who use cash.\")\n",
    "else:\n",
    "    print(\"Fail to Reject Null Hypothesis: No significant difference found.\")\n"
   ]
  },
  {
   "cell_type": "markdown",
   "id": "7196ca44-8a03-4452-b6d3-f78b545c8658",
   "metadata": {},
   "source": [
    "## Result (from your test): Since the p-value ≈ 0.0 (much less than 0.05), we reject the null hypothesis."
   ]
  },
  {
   "cell_type": "markdown",
   "id": "1ae0c8ab-ea35-45b3-bf8c-ba3aff131132",
   "metadata": {},
   "source": [
    "## Conclusion:\n",
    "The payment method does impact fare amount. Specifically, card payments are statistically associated with higher fares, suggesting drivers earn more per ride when passengers pay by card."
   ]
  },
  {
   "cell_type": "markdown",
   "id": "fd026e1c-84c5-450e-9ad0-17dfbd019539",
   "metadata": {},
   "source": [
    "# 🚖 Final Conclusion\n",
    "\n",
    "### Our analysis shows a clear link between payment type and driver revenue:\n",
    "### Card payments dominate across all fare ranges (53% vs. 30% in the lowest range, and consistently higher in longer/higher fares).\n",
    "### Fare distribution proves that card users take more high-value and long-distance trips, while cash trips are more common for smaller fares.\n",
    "### Payment preference trends confirm that a majority of passengers (63.8%) choose card, reflecting a strong shift toward cashless rides.\n",
    "### Hypothesis testing validates this: payment type has a significant impact on fare amounts, with card fares being statistically higher.\n",
    "\n",
    "# 💡 Impact: While cash provides ride volume, card transactions bring higher earnings per ride and dominate customer preference. For drivers, encouraging card payments is the most effective strategy to maximize revenue and long-term income stability."
   ]
  },
  {
   "cell_type": "code",
   "execution_count": null,
   "id": "efe2be19-5448-4395-86be-7dbc9f6d6a6f",
   "metadata": {},
   "outputs": [],
   "source": []
  },
  {
   "cell_type": "code",
   "execution_count": null,
   "id": "921f5c34-1864-4d4f-a5b0-a452582d6c4e",
   "metadata": {},
   "outputs": [],
   "source": []
  },
  {
   "cell_type": "code",
   "execution_count": null,
   "id": "891f2f50-fff9-420a-9494-1f6b4cd559d8",
   "metadata": {},
   "outputs": [],
   "source": []
  },
  {
   "cell_type": "code",
   "execution_count": null,
   "id": "f3e6f88e-5c66-4745-9973-649c8473c6c4",
   "metadata": {},
   "outputs": [],
   "source": []
  }
 ],
 "metadata": {
  "kernelspec": {
   "display_name": "Python 3 (ipykernel)",
   "language": "python",
   "name": "python3"
  },
  "language_info": {
   "codemirror_mode": {
    "name": "ipython",
    "version": 3
   },
   "file_extension": ".py",
   "mimetype": "text/x-python",
   "name": "python",
   "nbconvert_exporter": "python",
   "pygments_lexer": "ipython3",
   "version": "3.11.9"
  }
 },
 "nbformat": 4,
 "nbformat_minor": 5
}
